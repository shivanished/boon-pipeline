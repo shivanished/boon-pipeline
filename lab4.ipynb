# New cell added at the top to install otter
!pip install otter-grader

xr_normalized = (xr - np.mean(xr)) / np.std(xr)
xg_normalized = (xg - np.mean(xg)) / np.std(xg)
xb_normalized = (xb - np.mean(xb)) / np.std(xb)
